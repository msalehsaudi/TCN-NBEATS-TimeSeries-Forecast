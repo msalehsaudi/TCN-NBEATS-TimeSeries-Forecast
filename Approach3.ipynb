{
  "nbformat": 4,
  "nbformat_minor": 0,
  "metadata": {
    "colab": {
      "name": "Tesla_TCN(ok).ipynb",
      "provenance": [],
      "collapsed_sections": []
    },
    "kernelspec": {
      "name": "python3",
      "display_name": "Python 3"
    },
    "language_info": {
      "name": "python"
    },
    "accelerator": "GPU"
  },
  "cells": [
    {
      "cell_type": "markdown",
      "source": [
        "## **installing libraries**"
      ],
      "metadata": {
        "id": "7h3sMIKen3Z5"
      }
    },
    {
      "cell_type": "code",
      "metadata": {
        "id": "AWsJwVgh0IWk"
      },
      "source": [
        "!pip install yfinance\n",
        "!pip install darts\n",
        "!pip uninstall matplotlib\n",
        "!pip install matplotlib==3.1.3"
      ],
      "execution_count": null,
      "outputs": []
    },
    {
      "cell_type": "markdown",
      "source": [
        "## **Importing libraries**"
      ],
      "metadata": {
        "id": "0Y1ffXMGhDtO"
      }
    },
    {
      "cell_type": "code",
      "metadata": {
        "id": "nEzKlzrV0KTL"
      },
      "source": [
        "import numpy as np\n",
        "import pandas as pd\n",
        "import yfinance as yf\n",
        "import tensorflow as tf\n",
        "import matplotlib.pyplot as plt\n",
        "from darts.models import (\n",
        "    LinearRegressionModel,\n",
        "    ExponentialSmoothing,\n",
        "    ARIMA, \n",
        "    RandomForest,\n",
        "    Theta, \n",
        "    RegressionEnsembleModel, \n",
        "    NBEATSModel\n",
        ")\n",
        "from darts import TimeSeries\n",
        "from darts.dataprocessing.transformers import Scaler\n",
        "from darts.metrics import mape, mse\n",
        "# Feature Scaling\n",
        "from sklearn.preprocessing import StandardScaler"
      ],
      "execution_count": 8,
      "outputs": []
    },
    {
      "cell_type": "markdown",
      "source": [
        "## **Loading the Data**"
      ],
      "metadata": {
        "id": "qmHmnXm2hKzk"
      }
    },
    {
      "cell_type": "code",
      "source": [
        "# Download additional stock data, which is correlated to Tesla stock, after research we found that NASDAQ is very correlated\n",
        "\n",
        "tesla_df = yf.download(['TSLA'], \n",
        "                      start='2013-01-02', \n",
        "                      end='2021-06-30', \n",
        "                      progress=False).reset_index()\n",
        "nasdq_df = yf.download(['^IXIC'], \n",
        "                      start='2013-01-02', \n",
        "                      end='2021-06-30', \n",
        "                      progress=False).reset_index()\n",
        "\n",
        "# Events is a self made data for the major events and its effect on tesla stock over the years\n",
        "events = pd.read_excel('tesla_tweed_pre.xlsx', sheet_name='tesla_tweets')[['Date', 'accum_value']]\n",
        "events = events[events['accum_value']!=0]\n",
        "nasdq_df.columns = ['Date', 'NSDQ-Open', 'NSDQ-High', 'NSDQ-Low', 'NSDQ-Close', 'NSDQ-Adj Close', 'NSDQ-Volume']\n",
        "tesla_df.columns = ['Date', 'tesla-Open', 'tesla-High', 'tesla-Low', 'tesla-Close', 'tesla-Adj Close', 'tesla-Volume']\n",
        "event_tesla_merge = pd.merge(tesla_df, events, how='left', on='Date')\n",
        "data = pd.merge(event_tesla_merge, nasdq_df, how='left', on='Date')\n",
        "data['accum_value']=data['accum_value'].fillna(0)\n",
        "\n",
        "# Data transformation\n",
        "def date_extraction(dataset):\n",
        "    dataset['Date'] = pd.to_datetime(dataset['Date'])\n",
        "    # dataset['Year'] = pd.DatetimeIndex(dataset['Date']).year\n",
        "    # dataset['Month'] = pd.DatetimeIndex(dataset['Date']).month\n",
        "    # dataset['Day'] = dataset.Date.dt.day\n",
        "    # dataset['DayOfWeek'] = dataset.Date.dt.dayofweek\n",
        "    # dataset['WeekOfYear'] = dataset.Date.dt.weekofyear\n",
        "    \n",
        "    # dataset['Series'] = np.arange(1,len(data)+1)\n",
        "date_extraction(data)\n",
        "data.tail(2)"
      ],
      "metadata": {
        "colab": {
          "base_uri": "https://localhost:8080/",
          "height": 208
        },
        "id": "5zEIU1NSvpbo",
        "outputId": "9e482e6c-679a-4d21-af14-978e57aa33f4"
      },
      "execution_count": 9,
      "outputs": [
        {
          "output_type": "execute_result",
          "data": {
            "text/html": [
              "\n",
              "  <div id=\"df-febfef61-f52e-4336-a867-6805cea76626\">\n",
              "    <div class=\"colab-df-container\">\n",
              "      <div>\n",
              "<style scoped>\n",
              "    .dataframe tbody tr th:only-of-type {\n",
              "        vertical-align: middle;\n",
              "    }\n",
              "\n",
              "    .dataframe tbody tr th {\n",
              "        vertical-align: top;\n",
              "    }\n",
              "\n",
              "    .dataframe thead th {\n",
              "        text-align: right;\n",
              "    }\n",
              "</style>\n",
              "<table border=\"1\" class=\"dataframe\">\n",
              "  <thead>\n",
              "    <tr style=\"text-align: right;\">\n",
              "      <th></th>\n",
              "      <th>Date</th>\n",
              "      <th>tesla-Open</th>\n",
              "      <th>tesla-High</th>\n",
              "      <th>tesla-Low</th>\n",
              "      <th>tesla-Close</th>\n",
              "      <th>tesla-Adj Close</th>\n",
              "      <th>tesla-Volume</th>\n",
              "      <th>accum_value</th>\n",
              "      <th>NSDQ-Open</th>\n",
              "      <th>NSDQ-High</th>\n",
              "      <th>NSDQ-Low</th>\n",
              "      <th>NSDQ-Close</th>\n",
              "      <th>NSDQ-Adj Close</th>\n",
              "      <th>NSDQ-Volume</th>\n",
              "    </tr>\n",
              "  </thead>\n",
              "  <tbody>\n",
              "    <tr>\n",
              "      <th>2136</th>\n",
              "      <td>2021-06-28</td>\n",
              "      <td>671.640015</td>\n",
              "      <td>694.700012</td>\n",
              "      <td>670.320007</td>\n",
              "      <td>688.719971</td>\n",
              "      <td>688.719971</td>\n",
              "      <td>21628200</td>\n",
              "      <td>224.49</td>\n",
              "      <td>14417.80957</td>\n",
              "      <td>14505.190430</td>\n",
              "      <td>14417.200195</td>\n",
              "      <td>14500.509766</td>\n",
              "      <td>14500.509766</td>\n",
              "      <td>4235620000</td>\n",
              "    </tr>\n",
              "    <tr>\n",
              "      <th>2137</th>\n",
              "      <td>2021-06-29</td>\n",
              "      <td>684.650024</td>\n",
              "      <td>687.510010</td>\n",
              "      <td>675.890015</td>\n",
              "      <td>680.760010</td>\n",
              "      <td>680.760010</td>\n",
              "      <td>17381300</td>\n",
              "      <td>224.49</td>\n",
              "      <td>14509.19043</td>\n",
              "      <td>14535.969727</td>\n",
              "      <td>14471.379883</td>\n",
              "      <td>14528.330078</td>\n",
              "      <td>14528.330078</td>\n",
              "      <td>4842860000</td>\n",
              "    </tr>\n",
              "  </tbody>\n",
              "</table>\n",
              "</div>\n",
              "      <button class=\"colab-df-convert\" onclick=\"convertToInteractive('df-febfef61-f52e-4336-a867-6805cea76626')\"\n",
              "              title=\"Convert this dataframe to an interactive table.\"\n",
              "              style=\"display:none;\">\n",
              "        \n",
              "  <svg xmlns=\"http://www.w3.org/2000/svg\" height=\"24px\"viewBox=\"0 0 24 24\"\n",
              "       width=\"24px\">\n",
              "    <path d=\"M0 0h24v24H0V0z\" fill=\"none\"/>\n",
              "    <path d=\"M18.56 5.44l.94 2.06.94-2.06 2.06-.94-2.06-.94-.94-2.06-.94 2.06-2.06.94zm-11 1L8.5 8.5l.94-2.06 2.06-.94-2.06-.94L8.5 2.5l-.94 2.06-2.06.94zm10 10l.94 2.06.94-2.06 2.06-.94-2.06-.94-.94-2.06-.94 2.06-2.06.94z\"/><path d=\"M17.41 7.96l-1.37-1.37c-.4-.4-.92-.59-1.43-.59-.52 0-1.04.2-1.43.59L10.3 9.45l-7.72 7.72c-.78.78-.78 2.05 0 2.83L4 21.41c.39.39.9.59 1.41.59.51 0 1.02-.2 1.41-.59l7.78-7.78 2.81-2.81c.8-.78.8-2.07 0-2.86zM5.41 20L4 18.59l7.72-7.72 1.47 1.35L5.41 20z\"/>\n",
              "  </svg>\n",
              "      </button>\n",
              "      \n",
              "  <style>\n",
              "    .colab-df-container {\n",
              "      display:flex;\n",
              "      flex-wrap:wrap;\n",
              "      gap: 12px;\n",
              "    }\n",
              "\n",
              "    .colab-df-convert {\n",
              "      background-color: #E8F0FE;\n",
              "      border: none;\n",
              "      border-radius: 50%;\n",
              "      cursor: pointer;\n",
              "      display: none;\n",
              "      fill: #1967D2;\n",
              "      height: 32px;\n",
              "      padding: 0 0 0 0;\n",
              "      width: 32px;\n",
              "    }\n",
              "\n",
              "    .colab-df-convert:hover {\n",
              "      background-color: #E2EBFA;\n",
              "      box-shadow: 0px 1px 2px rgba(60, 64, 67, 0.3), 0px 1px 3px 1px rgba(60, 64, 67, 0.15);\n",
              "      fill: #174EA6;\n",
              "    }\n",
              "\n",
              "    [theme=dark] .colab-df-convert {\n",
              "      background-color: #3B4455;\n",
              "      fill: #D2E3FC;\n",
              "    }\n",
              "\n",
              "    [theme=dark] .colab-df-convert:hover {\n",
              "      background-color: #434B5C;\n",
              "      box-shadow: 0px 1px 3px 1px rgba(0, 0, 0, 0.15);\n",
              "      filter: drop-shadow(0px 1px 2px rgba(0, 0, 0, 0.3));\n",
              "      fill: #FFFFFF;\n",
              "    }\n",
              "  </style>\n",
              "\n",
              "      <script>\n",
              "        const buttonEl =\n",
              "          document.querySelector('#df-febfef61-f52e-4336-a867-6805cea76626 button.colab-df-convert');\n",
              "        buttonEl.style.display =\n",
              "          google.colab.kernel.accessAllowed ? 'block' : 'none';\n",
              "\n",
              "        async function convertToInteractive(key) {\n",
              "          const element = document.querySelector('#df-febfef61-f52e-4336-a867-6805cea76626');\n",
              "          const dataTable =\n",
              "            await google.colab.kernel.invokeFunction('convertToInteractive',\n",
              "                                                     [key], {});\n",
              "          if (!dataTable) return;\n",
              "\n",
              "          const docLinkHtml = 'Like what you see? Visit the ' +\n",
              "            '<a target=\"_blank\" href=https://colab.research.google.com/notebooks/data_table.ipynb>data table notebook</a>'\n",
              "            + ' to learn more about interactive tables.';\n",
              "          element.innerHTML = '';\n",
              "          dataTable['output_type'] = 'display_data';\n",
              "          await google.colab.output.renderOutput(dataTable, element);\n",
              "          const docLink = document.createElement('div');\n",
              "          docLink.innerHTML = docLinkHtml;\n",
              "          element.appendChild(docLink);\n",
              "        }\n",
              "      </script>\n",
              "    </div>\n",
              "  </div>\n",
              "  "
            ],
            "text/plain": [
              "           Date  tesla-Open  ...  NSDQ-Adj Close  NSDQ-Volume\n",
              "2136 2021-06-28  671.640015  ...    14500.509766   4235620000\n",
              "2137 2021-06-29  684.650024  ...    14528.330078   4842860000\n",
              "\n",
              "[2 rows x 14 columns]"
            ]
          },
          "metadata": {},
          "execution_count": 9
        }
      ]
    },
    {
      "cell_type": "code",
      "source": [
        "data = data.filter(['Date', 'tesla-Close', 'accum_value'], axis=1)\n",
        "data = data.iloc[1500:].reset_index(drop=True).fillna(method='bfill')\n",
        "full_dates = pd.DataFrame(pd.date_range(start = '2018-12-17', end = '2021-06-29', freq = 'D'), columns=['Date'])\n",
        "data_fill = pd.merge(full_dates, data, how='left', on='Date').fillna(method='bfill')\n",
        "data_fill.tail(2)\n"
      ],
      "metadata": {
        "id": "pmNgUAiuIv-W",
        "colab": {
          "base_uri": "https://localhost:8080/",
          "height": 112
        },
        "outputId": "1f8d2abc-70e1-4f4b-f5c3-602cba4d436f"
      },
      "execution_count": 10,
      "outputs": [
        {
          "output_type": "execute_result",
          "data": {
            "text/html": [
              "\n",
              "  <div id=\"df-bef32c84-8d6c-48b8-bfe9-e3258b68df8e\">\n",
              "    <div class=\"colab-df-container\">\n",
              "      <div>\n",
              "<style scoped>\n",
              "    .dataframe tbody tr th:only-of-type {\n",
              "        vertical-align: middle;\n",
              "    }\n",
              "\n",
              "    .dataframe tbody tr th {\n",
              "        vertical-align: top;\n",
              "    }\n",
              "\n",
              "    .dataframe thead th {\n",
              "        text-align: right;\n",
              "    }\n",
              "</style>\n",
              "<table border=\"1\" class=\"dataframe\">\n",
              "  <thead>\n",
              "    <tr style=\"text-align: right;\">\n",
              "      <th></th>\n",
              "      <th>Date</th>\n",
              "      <th>tesla-Close</th>\n",
              "      <th>accum_value</th>\n",
              "    </tr>\n",
              "  </thead>\n",
              "  <tbody>\n",
              "    <tr>\n",
              "      <th>924</th>\n",
              "      <td>2021-06-28</td>\n",
              "      <td>688.719971</td>\n",
              "      <td>224.49</td>\n",
              "    </tr>\n",
              "    <tr>\n",
              "      <th>925</th>\n",
              "      <td>2021-06-29</td>\n",
              "      <td>680.760010</td>\n",
              "      <td>224.49</td>\n",
              "    </tr>\n",
              "  </tbody>\n",
              "</table>\n",
              "</div>\n",
              "      <button class=\"colab-df-convert\" onclick=\"convertToInteractive('df-bef32c84-8d6c-48b8-bfe9-e3258b68df8e')\"\n",
              "              title=\"Convert this dataframe to an interactive table.\"\n",
              "              style=\"display:none;\">\n",
              "        \n",
              "  <svg xmlns=\"http://www.w3.org/2000/svg\" height=\"24px\"viewBox=\"0 0 24 24\"\n",
              "       width=\"24px\">\n",
              "    <path d=\"M0 0h24v24H0V0z\" fill=\"none\"/>\n",
              "    <path d=\"M18.56 5.44l.94 2.06.94-2.06 2.06-.94-2.06-.94-.94-2.06-.94 2.06-2.06.94zm-11 1L8.5 8.5l.94-2.06 2.06-.94-2.06-.94L8.5 2.5l-.94 2.06-2.06.94zm10 10l.94 2.06.94-2.06 2.06-.94-2.06-.94-.94-2.06-.94 2.06-2.06.94z\"/><path d=\"M17.41 7.96l-1.37-1.37c-.4-.4-.92-.59-1.43-.59-.52 0-1.04.2-1.43.59L10.3 9.45l-7.72 7.72c-.78.78-.78 2.05 0 2.83L4 21.41c.39.39.9.59 1.41.59.51 0 1.02-.2 1.41-.59l7.78-7.78 2.81-2.81c.8-.78.8-2.07 0-2.86zM5.41 20L4 18.59l7.72-7.72 1.47 1.35L5.41 20z\"/>\n",
              "  </svg>\n",
              "      </button>\n",
              "      \n",
              "  <style>\n",
              "    .colab-df-container {\n",
              "      display:flex;\n",
              "      flex-wrap:wrap;\n",
              "      gap: 12px;\n",
              "    }\n",
              "\n",
              "    .colab-df-convert {\n",
              "      background-color: #E8F0FE;\n",
              "      border: none;\n",
              "      border-radius: 50%;\n",
              "      cursor: pointer;\n",
              "      display: none;\n",
              "      fill: #1967D2;\n",
              "      height: 32px;\n",
              "      padding: 0 0 0 0;\n",
              "      width: 32px;\n",
              "    }\n",
              "\n",
              "    .colab-df-convert:hover {\n",
              "      background-color: #E2EBFA;\n",
              "      box-shadow: 0px 1px 2px rgba(60, 64, 67, 0.3), 0px 1px 3px 1px rgba(60, 64, 67, 0.15);\n",
              "      fill: #174EA6;\n",
              "    }\n",
              "\n",
              "    [theme=dark] .colab-df-convert {\n",
              "      background-color: #3B4455;\n",
              "      fill: #D2E3FC;\n",
              "    }\n",
              "\n",
              "    [theme=dark] .colab-df-convert:hover {\n",
              "      background-color: #434B5C;\n",
              "      box-shadow: 0px 1px 3px 1px rgba(0, 0, 0, 0.15);\n",
              "      filter: drop-shadow(0px 1px 2px rgba(0, 0, 0, 0.3));\n",
              "      fill: #FFFFFF;\n",
              "    }\n",
              "  </style>\n",
              "\n",
              "      <script>\n",
              "        const buttonEl =\n",
              "          document.querySelector('#df-bef32c84-8d6c-48b8-bfe9-e3258b68df8e button.colab-df-convert');\n",
              "        buttonEl.style.display =\n",
              "          google.colab.kernel.accessAllowed ? 'block' : 'none';\n",
              "\n",
              "        async function convertToInteractive(key) {\n",
              "          const element = document.querySelector('#df-bef32c84-8d6c-48b8-bfe9-e3258b68df8e');\n",
              "          const dataTable =\n",
              "            await google.colab.kernel.invokeFunction('convertToInteractive',\n",
              "                                                     [key], {});\n",
              "          if (!dataTable) return;\n",
              "\n",
              "          const docLinkHtml = 'Like what you see? Visit the ' +\n",
              "            '<a target=\"_blank\" href=https://colab.research.google.com/notebooks/data_table.ipynb>data table notebook</a>'\n",
              "            + ' to learn more about interactive tables.';\n",
              "          element.innerHTML = '';\n",
              "          dataTable['output_type'] = 'display_data';\n",
              "          await google.colab.output.renderOutput(dataTable, element);\n",
              "          const docLink = document.createElement('div');\n",
              "          docLink.innerHTML = docLinkHtml;\n",
              "          element.appendChild(docLink);\n",
              "        }\n",
              "      </script>\n",
              "    </div>\n",
              "  </div>\n",
              "  "
            ],
            "text/plain": [
              "          Date  tesla-Close  accum_value\n",
              "924 2021-06-28   688.719971       224.49\n",
              "925 2021-06-29   680.760010       224.49"
            ]
          },
          "metadata": {},
          "execution_count": 10
        }
      ]
    },
    {
      "cell_type": "markdown",
      "source": [
        "## **Plotting, selecting, and describing data**"
      ],
      "metadata": {
        "id": "suqoAbR7hWPu"
      }
    },
    {
      "cell_type": "code",
      "source": [
        "data_fill.corr()"
      ],
      "metadata": {
        "colab": {
          "base_uri": "https://localhost:8080/",
          "height": 112
        },
        "id": "seH4gWDtWEjm",
        "outputId": "7e8ae846-408b-4010-fbaa-07bccb764761"
      },
      "execution_count": 11,
      "outputs": [
        {
          "output_type": "execute_result",
          "data": {
            "text/html": [
              "\n",
              "  <div id=\"df-6a702437-22e9-4112-beff-aece8efabdaa\">\n",
              "    <div class=\"colab-df-container\">\n",
              "      <div>\n",
              "<style scoped>\n",
              "    .dataframe tbody tr th:only-of-type {\n",
              "        vertical-align: middle;\n",
              "    }\n",
              "\n",
              "    .dataframe tbody tr th {\n",
              "        vertical-align: top;\n",
              "    }\n",
              "\n",
              "    .dataframe thead th {\n",
              "        text-align: right;\n",
              "    }\n",
              "</style>\n",
              "<table border=\"1\" class=\"dataframe\">\n",
              "  <thead>\n",
              "    <tr style=\"text-align: right;\">\n",
              "      <th></th>\n",
              "      <th>tesla-Close</th>\n",
              "      <th>accum_value</th>\n",
              "    </tr>\n",
              "  </thead>\n",
              "  <tbody>\n",
              "    <tr>\n",
              "      <th>tesla-Close</th>\n",
              "      <td>1.000000</td>\n",
              "      <td>0.963774</td>\n",
              "    </tr>\n",
              "    <tr>\n",
              "      <th>accum_value</th>\n",
              "      <td>0.963774</td>\n",
              "      <td>1.000000</td>\n",
              "    </tr>\n",
              "  </tbody>\n",
              "</table>\n",
              "</div>\n",
              "      <button class=\"colab-df-convert\" onclick=\"convertToInteractive('df-6a702437-22e9-4112-beff-aece8efabdaa')\"\n",
              "              title=\"Convert this dataframe to an interactive table.\"\n",
              "              style=\"display:none;\">\n",
              "        \n",
              "  <svg xmlns=\"http://www.w3.org/2000/svg\" height=\"24px\"viewBox=\"0 0 24 24\"\n",
              "       width=\"24px\">\n",
              "    <path d=\"M0 0h24v24H0V0z\" fill=\"none\"/>\n",
              "    <path d=\"M18.56 5.44l.94 2.06.94-2.06 2.06-.94-2.06-.94-.94-2.06-.94 2.06-2.06.94zm-11 1L8.5 8.5l.94-2.06 2.06-.94-2.06-.94L8.5 2.5l-.94 2.06-2.06.94zm10 10l.94 2.06.94-2.06 2.06-.94-2.06-.94-.94-2.06-.94 2.06-2.06.94z\"/><path d=\"M17.41 7.96l-1.37-1.37c-.4-.4-.92-.59-1.43-.59-.52 0-1.04.2-1.43.59L10.3 9.45l-7.72 7.72c-.78.78-.78 2.05 0 2.83L4 21.41c.39.39.9.59 1.41.59.51 0 1.02-.2 1.41-.59l7.78-7.78 2.81-2.81c.8-.78.8-2.07 0-2.86zM5.41 20L4 18.59l7.72-7.72 1.47 1.35L5.41 20z\"/>\n",
              "  </svg>\n",
              "      </button>\n",
              "      \n",
              "  <style>\n",
              "    .colab-df-container {\n",
              "      display:flex;\n",
              "      flex-wrap:wrap;\n",
              "      gap: 12px;\n",
              "    }\n",
              "\n",
              "    .colab-df-convert {\n",
              "      background-color: #E8F0FE;\n",
              "      border: none;\n",
              "      border-radius: 50%;\n",
              "      cursor: pointer;\n",
              "      display: none;\n",
              "      fill: #1967D2;\n",
              "      height: 32px;\n",
              "      padding: 0 0 0 0;\n",
              "      width: 32px;\n",
              "    }\n",
              "\n",
              "    .colab-df-convert:hover {\n",
              "      background-color: #E2EBFA;\n",
              "      box-shadow: 0px 1px 2px rgba(60, 64, 67, 0.3), 0px 1px 3px 1px rgba(60, 64, 67, 0.15);\n",
              "      fill: #174EA6;\n",
              "    }\n",
              "\n",
              "    [theme=dark] .colab-df-convert {\n",
              "      background-color: #3B4455;\n",
              "      fill: #D2E3FC;\n",
              "    }\n",
              "\n",
              "    [theme=dark] .colab-df-convert:hover {\n",
              "      background-color: #434B5C;\n",
              "      box-shadow: 0px 1px 3px 1px rgba(0, 0, 0, 0.15);\n",
              "      filter: drop-shadow(0px 1px 2px rgba(0, 0, 0, 0.3));\n",
              "      fill: #FFFFFF;\n",
              "    }\n",
              "  </style>\n",
              "\n",
              "      <script>\n",
              "        const buttonEl =\n",
              "          document.querySelector('#df-6a702437-22e9-4112-beff-aece8efabdaa button.colab-df-convert');\n",
              "        buttonEl.style.display =\n",
              "          google.colab.kernel.accessAllowed ? 'block' : 'none';\n",
              "\n",
              "        async function convertToInteractive(key) {\n",
              "          const element = document.querySelector('#df-6a702437-22e9-4112-beff-aece8efabdaa');\n",
              "          const dataTable =\n",
              "            await google.colab.kernel.invokeFunction('convertToInteractive',\n",
              "                                                     [key], {});\n",
              "          if (!dataTable) return;\n",
              "\n",
              "          const docLinkHtml = 'Like what you see? Visit the ' +\n",
              "            '<a target=\"_blank\" href=https://colab.research.google.com/notebooks/data_table.ipynb>data table notebook</a>'\n",
              "            + ' to learn more about interactive tables.';\n",
              "          element.innerHTML = '';\n",
              "          dataTable['output_type'] = 'display_data';\n",
              "          await google.colab.output.renderOutput(dataTable, element);\n",
              "          const docLink = document.createElement('div');\n",
              "          docLink.innerHTML = docLinkHtml;\n",
              "          element.appendChild(docLink);\n",
              "        }\n",
              "      </script>\n",
              "    </div>\n",
              "  </div>\n",
              "  "
            ],
            "text/plain": [
              "             tesla-Close  accum_value\n",
              "tesla-Close     1.000000     0.963774\n",
              "accum_value     0.963774     1.000000"
            ]
          },
          "metadata": {},
          "execution_count": 11
        }
      ]
    },
    {
      "cell_type": "code",
      "source": [
        "data_merged = TimeSeries.from_dataframe(data_fill, time_col = 'Date', value_cols = ['accum_value','tesla-Close'],\n",
        "                                    fill_missing_dates=True, freq='d')\n",
        "col = ['tesla-Close', 'accum_value']\n",
        "data_merged[col].plot()"
      ],
      "metadata": {
        "colab": {
          "base_uri": "https://localhost:8080/",
          "height": 294
        },
        "id": "9zglJMM9W6e5",
        "outputId": "9ce7ec2e-4651-493e-ed8f-26f004479e70"
      },
      "execution_count": 12,
      "outputs": [
        {
          "output_type": "display_data",
          "data": {
            "image/png": "[encoded data removed]",
            "text/plain": [
              "<Figure size 432x288 with 1 Axes>"
            ]
          },
          "metadata": {
            "needs_background": "light"
          }
        }
      ]
    },
    {
      "cell_type": "markdown",
      "source": [
        "## **Scalling and Training / Validation split**"
      ],
      "metadata": {
        "id": "J_U6DwJYJo99"
      }
    },
    {
      "cell_type": "code",
      "source": [
        "from darts import TimeSeries\n",
        "from darts.dataprocessing.transformers import Scaler\n",
        "\n",
        "# Changing our data to timeseries product for the darts library\n",
        "data_ts = TimeSeries.from_dataframe(data_fill, \n",
        "                                    time_col = 'Date', \n",
        "                                    value_cols = 'tesla-Close',\n",
        "                                    fill_missing_dates=True, freq='d')\n",
        "covariates = TimeSeries.from_dataframe(data_fill, \n",
        "                                    time_col = 'Date', \n",
        "                                    value_cols = 'accum_value',\n",
        "                                    fill_missing_dates=True, freq='d')\n",
        "\n",
        "scaler_target = Scaler()\n",
        "data_ts_transformed = scaler_target.fit_transform(data_ts)\n",
        "train_transformed, val_transformed = data_ts_transformed.split_before(pd.Timestamp('20210615'))\n",
        "\n",
        "scaler_covariate = Scaler()\n",
        "covariate_transformed = scaler_covariate.fit_transform(covariates)\n",
        "past_cov, future_cov = covariate_transformed.split_before(pd.Timestamp('20210615')) "
      ],
      "metadata": {
        "id": "xI-i9T2uJm2a"
      },
      "execution_count": 13,
      "outputs": []
    },
    {
      "cell_type": "markdown",
      "source": [
        "# **Deep learning Models**"
      ],
      "metadata": {
        "id": "gBzDLJhqKGa9"
      }
    },
    {
      "cell_type": "markdown",
      "source": [
        "## **Temporal convolutional netword Models**"
      ],
      "metadata": {
        "id": "IsVF32DynIoO"
      }
    },
    {
      "cell_type": "code",
      "source": [
        "from darts.models import TCNModel\n",
        "from darts.utils.likelihood_models import GaussianLikelihood\n",
        "\n",
        "deeptcn = TCNModel(\n",
        "    dropout=0.2,\n",
        "    batch_size=32,\n",
        "    n_epochs=20,\n",
        "    optimizer_kwargs={'lr': 1e-3},\n",
        "    random_state=0,\n",
        "    input_chunk_length=100,\n",
        "    output_chunk_length=30,\n",
        "    kernel_size=3,\n",
        "    num_filters=4,\n",
        "    likelihood=GaussianLikelihood())\n",
        "\n",
        "deeptcn.fit(series=train_transformed, past_covariates=past_cov, verbose=True)\n",
        "\n"
      ],
      "metadata": {
        "id": "xeeAZnJqKEqo",
        "colab": {
          "base_uri": "https://localhost:8080/"
        },
        "outputId": "d1e5f63e-d8e4-4cf6-f984-aefd50581096"
      },
      "execution_count": 14,
      "outputs": [
        {
          "output_type": "stream",
          "name": "stderr",
          "text": [
            "[2022-01-06 11:51:56,708] INFO | darts.models.forecasting.torch_forecasting_model | Train dataset contains 782 samples.\n",
            "[2022-01-06 11:51:56,708] INFO | darts.models.forecasting.torch_forecasting_model | Train dataset contains 782 samples.\n",
            "[2022-01-06 11:51:56,719] INFO | darts.models.forecasting.tcn_model | Number of layers chosen: 5\n",
            "[2022-01-06 11:51:56,719] INFO | darts.models.forecasting.tcn_model | Number of layers chosen: 5\n",
            "[2022-01-06 11:51:56,782] INFO | darts.models.forecasting.torch_forecasting_model | Time series values are 64-bits; casting model to float64.\n",
            "[2022-01-06 11:51:56,782] INFO | darts.models.forecasting.torch_forecasting_model | Time series values are 64-bits; casting model to float64.\n",
            "  5%|▌         | 1/20 [00:00<00:13,  1.41it/s]"
          ]
        },
        {
          "output_type": "stream",
          "name": "stdout",
          "text": [
            "Training loss: 0.9579\r"
          ]
        },
        {
          "output_type": "stream",
          "name": "stderr",
          "text": [
            " 55%|█████▌    | 11/20 [00:06<00:04,  1.88it/s]"
          ]
        },
        {
          "output_type": "stream",
          "name": "stdout",
          "text": [
            "Training loss: -0.4487\r"
          ]
        },
        {
          "output_type": "stream",
          "name": "stderr",
          "text": [
            "100%|██████████| 20/20 [00:10<00:00,  1.85it/s]\n"
          ]
        }
      ]
    },
    {
      "cell_type": "code",
      "source": [
        "pred = deeptcn.predict(15, past_covariates=past_cov, num_samples=1)\n",
        "pred_orig = scaler_target.inverse_transform(pred)\n",
        "\n",
        "val_orig = scaler_target.inverse_transform(val_transformed)\n",
        "val_orig.slice_intersect(pred_orig).plot(label='target')\n",
        "\n",
        "pred_orig.plot(label='forecast')\n",
        "training = scaler_target.inverse_transform(train_transformed)\n",
        "print('MAPE = {:.2f}%'.format(mape(pred_orig, val_orig)))"
      ],
      "metadata": {
        "colab": {
          "base_uri": "https://localhost:8080/",
          "height": 318
        },
        "id": "HXsTnr3kYHrR",
        "outputId": "5fdf24ff-42c7-43a3-fc10-5c74c20b93cd"
      },
      "execution_count": 40,
      "outputs": [
        {
          "output_type": "stream",
          "name": "stdout",
          "text": [
            "MAPE = 4.07%\n"
          ]
        },
        {
          "output_type": "display_data",
          "data": {
            "image/png": "[encoded data removed]",
            "text/plain": [
              "<Figure size 432x288 with 1 Axes>"
            ]
          },
          "metadata": {
            "needs_background": "light"
          }
        }
      ]
    },
    {
      "cell_type": "code",
      "source": [
        "pd.merge(pred_orig.pd_dataframe().rename(columns = {'tesla-Close':'Label'}), val_orig.pd_dataframe(), left_index=True, right_index=True)"
      ],
      "metadata": {
        "colab": {
          "base_uri": "https://localhost:8080/",
          "height": 552
        },
        "id": "2Fd1LLgPZk8A",
        "outputId": "b5afc10d-1f19-4910-91c0-b4d9de108a63"
      },
      "execution_count": 55,
      "outputs": [
        {
          "output_type": "execute_result",
          "data": {
            "text/html": [
              "\n",
              "  <div id=\"df-8c1410f4-115c-4d2a-854f-070d986957da\">\n",
              "    <div class=\"colab-df-container\">\n",
              "      <div>\n",
              "<style scoped>\n",
              "    .dataframe tbody tr th:only-of-type {\n",
              "        vertical-align: middle;\n",
              "    }\n",
              "\n",
              "    .dataframe tbody tr th {\n",
              "        vertical-align: top;\n",
              "    }\n",
              "\n",
              "    .dataframe thead th {\n",
              "        text-align: right;\n",
              "    }\n",
              "</style>\n",
              "<table border=\"1\" class=\"dataframe\">\n",
              "  <thead>\n",
              "    <tr style=\"text-align: right;\">\n",
              "      <th>component</th>\n",
              "      <th>Label</th>\n",
              "      <th>tesla-Close</th>\n",
              "    </tr>\n",
              "    <tr>\n",
              "      <th>time</th>\n",
              "      <th></th>\n",
              "      <th></th>\n",
              "    </tr>\n",
              "  </thead>\n",
              "  <tbody>\n",
              "    <tr>\n",
              "      <th>2021-06-15</th>\n",
              "      <td>610.935648</td>\n",
              "      <td>599.359985</td>\n",
              "    </tr>\n",
              "    <tr>\n",
              "      <th>2021-06-16</th>\n",
              "      <td>631.486867</td>\n",
              "      <td>604.869995</td>\n",
              "    </tr>\n",
              "    <tr>\n",
              "      <th>2021-06-17</th>\n",
              "      <td>621.229285</td>\n",
              "      <td>616.599976</td>\n",
              "    </tr>\n",
              "    <tr>\n",
              "      <th>2021-06-18</th>\n",
              "      <td>638.414857</td>\n",
              "      <td>623.309998</td>\n",
              "    </tr>\n",
              "    <tr>\n",
              "      <th>2021-06-19</th>\n",
              "      <td>642.312689</td>\n",
              "      <td>620.830017</td>\n",
              "    </tr>\n",
              "    <tr>\n",
              "      <th>2021-06-20</th>\n",
              "      <td>656.455396</td>\n",
              "      <td>620.830017</td>\n",
              "    </tr>\n",
              "    <tr>\n",
              "      <th>2021-06-21</th>\n",
              "      <td>632.507817</td>\n",
              "      <td>620.830017</td>\n",
              "    </tr>\n",
              "    <tr>\n",
              "      <th>2021-06-22</th>\n",
              "      <td>611.303664</td>\n",
              "      <td>623.710022</td>\n",
              "    </tr>\n",
              "    <tr>\n",
              "      <th>2021-06-23</th>\n",
              "      <td>645.091970</td>\n",
              "      <td>656.570007</td>\n",
              "    </tr>\n",
              "    <tr>\n",
              "      <th>2021-06-24</th>\n",
              "      <td>605.602202</td>\n",
              "      <td>679.820007</td>\n",
              "    </tr>\n",
              "    <tr>\n",
              "      <th>2021-06-25</th>\n",
              "      <td>639.884807</td>\n",
              "      <td>671.869995</td>\n",
              "    </tr>\n",
              "    <tr>\n",
              "      <th>2021-06-26</th>\n",
              "      <td>625.823887</td>\n",
              "      <td>688.719971</td>\n",
              "    </tr>\n",
              "    <tr>\n",
              "      <th>2021-06-27</th>\n",
              "      <td>666.985626</td>\n",
              "      <td>688.719971</td>\n",
              "    </tr>\n",
              "    <tr>\n",
              "      <th>2021-06-28</th>\n",
              "      <td>658.653636</td>\n",
              "      <td>688.719971</td>\n",
              "    </tr>\n",
              "    <tr>\n",
              "      <th>2021-06-29</th>\n",
              "      <td>665.648219</td>\n",
              "      <td>680.760010</td>\n",
              "    </tr>\n",
              "  </tbody>\n",
              "</table>\n",
              "</div>\n",
              "      <button class=\"colab-df-convert\" onclick=\"convertToInteractive('df-8c1410f4-115c-4d2a-854f-070d986957da')\"\n",
              "              title=\"Convert this dataframe to an interactive table.\"\n",
              "              style=\"display:none;\">\n",
              "        \n",
              "  <svg xmlns=\"http://www.w3.org/2000/svg\" height=\"24px\"viewBox=\"0 0 24 24\"\n",
              "       width=\"24px\">\n",
              "    <path d=\"M0 0h24v24H0V0z\" fill=\"none\"/>\n",
              "    <path d=\"M18.56 5.44l.94 2.06.94-2.06 2.06-.94-2.06-.94-.94-2.06-.94 2.06-2.06.94zm-11 1L8.5 8.5l.94-2.06 2.06-.94-2.06-.94L8.5 2.5l-.94 2.06-2.06.94zm10 10l.94 2.06.94-2.06 2.06-.94-2.06-.94-.94-2.06-.94 2.06-2.06.94z\"/><path d=\"M17.41 7.96l-1.37-1.37c-.4-.4-.92-.59-1.43-.59-.52 0-1.04.2-1.43.59L10.3 9.45l-7.72 7.72c-.78.78-.78 2.05 0 2.83L4 21.41c.39.39.9.59 1.41.59.51 0 1.02-.2 1.41-.59l7.78-7.78 2.81-2.81c.8-.78.8-2.07 0-2.86zM5.41 20L4 18.59l7.72-7.72 1.47 1.35L5.41 20z\"/>\n",
              "  </svg>\n",
              "      </button>\n",
              "      \n",
              "  <style>\n",
              "    .colab-df-container {\n",
              "      display:flex;\n",
              "      flex-wrap:wrap;\n",
              "      gap: 12px;\n",
              "    }\n",
              "\n",
              "    .colab-df-convert {\n",
              "      background-color: #E8F0FE;\n",
              "      border: none;\n",
              "      border-radius: 50%;\n",
              "      cursor: pointer;\n",
              "      display: none;\n",
              "      fill: #1967D2;\n",
              "      height: 32px;\n",
              "      padding: 0 0 0 0;\n",
              "      width: 32px;\n",
              "    }\n",
              "\n",
              "    .colab-df-convert:hover {\n",
              "      background-color: #E2EBFA;\n",
              "      box-shadow: 0px 1px 2px rgba(60, 64, 67, 0.3), 0px 1px 3px 1px rgba(60, 64, 67, 0.15);\n",
              "      fill: #174EA6;\n",
              "    }\n",
              "\n",
              "    [theme=dark] .colab-df-convert {\n",
              "      background-color: #3B4455;\n",
              "      fill: #D2E3FC;\n",
              "    }\n",
              "\n",
              "    [theme=dark] .colab-df-convert:hover {\n",
              "      background-color: #434B5C;\n",
              "      box-shadow: 0px 1px 3px 1px rgba(0, 0, 0, 0.15);\n",
              "      filter: drop-shadow(0px 1px 2px rgba(0, 0, 0, 0.3));\n",
              "      fill: #FFFFFF;\n",
              "    }\n",
              "  </style>\n",
              "\n",
              "      <script>\n",
              "        const buttonEl =\n",
              "          document.querySelector('#df-8c1410f4-115c-4d2a-854f-070d986957da button.colab-df-convert');\n",
              "        buttonEl.style.display =\n",
              "          google.colab.kernel.accessAllowed ? 'block' : 'none';\n",
              "\n",
              "        async function convertToInteractive(key) {\n",
              "          const element = document.querySelector('#df-8c1410f4-115c-4d2a-854f-070d986957da');\n",
              "          const dataTable =\n",
              "            await google.colab.kernel.invokeFunction('convertToInteractive',\n",
              "                                                     [key], {});\n",
              "          if (!dataTable) return;\n",
              "\n",
              "          const docLinkHtml = 'Like what you see? Visit the ' +\n",
              "            '<a target=\"_blank\" href=https://colab.research.google.com/notebooks/data_table.ipynb>data table notebook</a>'\n",
              "            + ' to learn more about interactive tables.';\n",
              "          element.innerHTML = '';\n",
              "          dataTable['output_type'] = 'display_data';\n",
              "          await google.colab.output.renderOutput(dataTable, element);\n",
              "          const docLink = document.createElement('div');\n",
              "          docLink.innerHTML = docLinkHtml;\n",
              "          element.appendChild(docLink);\n",
              "        }\n",
              "      </script>\n",
              "    </div>\n",
              "  </div>\n",
              "  "
            ],
            "text/plain": [
              "component        Label  tesla-Close\n",
              "time                               \n",
              "2021-06-15  610.935648   599.359985\n",
              "2021-06-16  631.486867   604.869995\n",
              "2021-06-17  621.229285   616.599976\n",
              "2021-06-18  638.414857   623.309998\n",
              "2021-06-19  642.312689   620.830017\n",
              "2021-06-20  656.455396   620.830017\n",
              "2021-06-21  632.507817   620.830017\n",
              "2021-06-22  611.303664   623.710022\n",
              "2021-06-23  645.091970   656.570007\n",
              "2021-06-24  605.602202   679.820007\n",
              "2021-06-25  639.884807   671.869995\n",
              "2021-06-26  625.823887   688.719971\n",
              "2021-06-27  666.985626   688.719971\n",
              "2021-06-28  658.653636   688.719971\n",
              "2021-06-29  665.648219   680.760010"
            ]
          },
          "metadata": {},
          "execution_count": 55
        }
      ]
    },
    {
      "cell_type": "markdown",
      "source": [
        "### **Metrics**"
      ],
      "metadata": {
        "id": "_81qrYSXP4nI"
      }
    },
    {
      "cell_type": "code",
      "source": [
        "from darts.metrics import mape, mase, mae, rmse\n",
        "\n",
        "mape_score = mape(val_orig, pred_orig)\n",
        "mae_score = mae(val_orig, pred_orig)\n",
        "rmse_score = rmse(val_orig, pred_orig)\n",
        "\n",
        "print('TCN model MAPE is: {}%'.format(round(mape_score)))\n",
        "print('TCN model MAE is: {}'.format(round(mae_score, 2)))\n",
        "print('TCN model RMSE is: {}'.format(round(rmse_score)))\n"
      ],
      "metadata": {
        "id": "lDZ_yoQEP_pL",
        "colab": {
          "base_uri": "https://localhost:8080/"
        },
        "outputId": "f825226b-5e13-4fba-88e2-a944aab3e9b7"
      },
      "execution_count": 65,
      "outputs": [
        {
          "output_type": "stream",
          "name": "stdout",
          "text": [
            "TCN model MAPE is: 4%\n",
            "TCN model MAE is: 25.77\n",
            "TCN model RMSE is: 32\n"
          ]
        }
      ]
    },
    {
      "cell_type": "markdown",
      "source": [
        "## **NBEATS model**"
      ],
      "metadata": {
        "id": "t00rKuz9N0L9"
      }
    },
    {
      "cell_type": "code",
      "source": [
        "model = NBEATSModel(input_chunk_length=30, output_chunk_length=15, n_epochs=100, random_state=0)\n",
        "\n",
        "model.fit([train_transformed, past_cov], verbose=True)\n",
        "\n"
      ],
      "metadata": {
        "id": "gNwYsL8ebTzW",
        "colab": {
          "base_uri": "https://localhost:8080/"
        },
        "outputId": "b893d85d-5d76-4d72-8fbc-1a4ac4191881"
      },
      "execution_count": 67,
      "outputs": [
        {
          "output_type": "stream",
          "name": "stderr",
          "text": [
            "[2022-01-06 13:11:17,044] INFO | darts.models.forecasting.torch_forecasting_model | Train dataset contains 1734 samples.\n",
            "[2022-01-06 13:11:17,044] INFO | darts.models.forecasting.torch_forecasting_model | Train dataset contains 1734 samples.\n",
            "[2022-01-06 13:11:17,150] INFO | darts.models.forecasting.torch_forecasting_model | Time series values are 64-bits; casting model to float64.\n",
            "[2022-01-06 13:11:17,150] INFO | darts.models.forecasting.torch_forecasting_model | Time series values are 64-bits; casting model to float64.\n",
            "  1%|          | 1/100 [00:11<19:35, 11.87s/it]"
          ]
        },
        {
          "output_type": "stream",
          "name": "stdout",
          "text": [
            "Training loss: 0.0614\r"
          ]
        },
        {
          "output_type": "stream",
          "name": "stderr",
          "text": [
            " 11%|█         | 11/100 [02:09<17:29, 11.79s/it]"
          ]
        },
        {
          "output_type": "stream",
          "name": "stdout",
          "text": [
            "Training loss: 0.0024\r"
          ]
        },
        {
          "output_type": "stream",
          "name": "stderr",
          "text": [
            " 21%|██        | 21/100 [04:07<15:35, 11.84s/it]"
          ]
        },
        {
          "output_type": "stream",
          "name": "stdout",
          "text": [
            "Training loss: 0.0023\r"
          ]
        },
        {
          "output_type": "stream",
          "name": "stderr",
          "text": [
            " 31%|███       | 31/100 [06:05<13:34, 11.80s/it]"
          ]
        },
        {
          "output_type": "stream",
          "name": "stdout",
          "text": [
            "Training loss: 0.0022\r"
          ]
        },
        {
          "output_type": "stream",
          "name": "stderr",
          "text": [
            " 41%|████      | 41/100 [08:04<11:37, 11.83s/it]"
          ]
        },
        {
          "output_type": "stream",
          "name": "stdout",
          "text": [
            "Training loss: 0.0023\r"
          ]
        },
        {
          "output_type": "stream",
          "name": "stderr",
          "text": [
            " 51%|█████     | 51/100 [10:02<09:41, 11.86s/it]"
          ]
        },
        {
          "output_type": "stream",
          "name": "stdout",
          "text": [
            "Training loss: 0.0025\r"
          ]
        },
        {
          "output_type": "stream",
          "name": "stderr",
          "text": [
            " 61%|██████    | 61/100 [12:01<07:43, 11.90s/it]"
          ]
        },
        {
          "output_type": "stream",
          "name": "stdout",
          "text": [
            "Training loss: 0.0017\r"
          ]
        },
        {
          "output_type": "stream",
          "name": "stderr",
          "text": [
            " 71%|███████   | 71/100 [14:00<05:45, 11.90s/it]"
          ]
        },
        {
          "output_type": "stream",
          "name": "stdout",
          "text": [
            "Training loss: 0.0016\r"
          ]
        },
        {
          "output_type": "stream",
          "name": "stderr",
          "text": [
            " 81%|████████  | 81/100 [15:59<03:46, 11.92s/it]"
          ]
        },
        {
          "output_type": "stream",
          "name": "stdout",
          "text": [
            "Training loss: 0.0015\r"
          ]
        },
        {
          "output_type": "stream",
          "name": "stderr",
          "text": [
            " 91%|█████████ | 91/100 [17:58<01:46, 11.88s/it]"
          ]
        },
        {
          "output_type": "stream",
          "name": "stdout",
          "text": [
            "Training loss: 0.0012\r"
          ]
        },
        {
          "output_type": "stream",
          "name": "stderr",
          "text": [
            "100%|██████████| 100/100 [19:45<00:00, 11.85s/it]\n"
          ]
        }
      ]
    },
    {
      "cell_type": "markdown",
      "source": [
        "### **Plotting**"
      ],
      "metadata": {
        "id": "I-SWupGznutM"
      }
    },
    {
      "cell_type": "code",
      "source": [
        "pred = model.predict(n=15, series=train_transformed)\n",
        "pred_orig = scaler_target.inverse_transform(pred)\n",
        "val_orig = scaler_target.inverse_transform(val_transformed)\n",
        "\n",
        "val_orig.plot(label='actual')\n",
        "pred_orig.plot(label='forecast')\n",
        "\n",
        "plt.legend();"
      ],
      "metadata": {
        "colab": {
          "base_uri": "https://localhost:8080/",
          "height": 301
        },
        "id": "ICLBEpEThCm6",
        "outputId": "98118033-bdd8-4185-b0cf-58e87af1e054"
      },
      "execution_count": 68,
      "outputs": [
        {
          "output_type": "display_data",
          "data": {
            "image/png": "[encoded data removed]",
            "text/plain": [
              "<Figure size 432x288 with 1 Axes>"
            ]
          },
          "metadata": {
            "needs_background": "light"
          }
        }
      ]
    },
    {
      "cell_type": "code",
      "source": [
        "pd.merge(pred_orig.pd_dataframe().rename(columns = {'tesla-Close':'Label'}), val_orig.pd_dataframe(), left_index=True, right_index=True)"
      ],
      "metadata": {
        "colab": {
          "base_uri": "https://localhost:8080/",
          "height": 552
        },
        "id": "eZfVN2uEl-M3",
        "outputId": "6cc0a690-4277-4c89-ebae-c0eea09996e5"
      },
      "execution_count": 72,
      "outputs": [
        {
          "output_type": "execute_result",
          "data": {
            "text/html": [
              "\n",
              "  <div id=\"df-6717c1c7-9aec-4c51-bfe1-bc8a955e131c\">\n",
              "    <div class=\"colab-df-container\">\n",
              "      <div>\n",
              "<style scoped>\n",
              "    .dataframe tbody tr th:only-of-type {\n",
              "        vertical-align: middle;\n",
              "    }\n",
              "\n",
              "    .dataframe tbody tr th {\n",
              "        vertical-align: top;\n",
              "    }\n",
              "\n",
              "    .dataframe thead th {\n",
              "        text-align: right;\n",
              "    }\n",
              "</style>\n",
              "<table border=\"1\" class=\"dataframe\">\n",
              "  <thead>\n",
              "    <tr style=\"text-align: right;\">\n",
              "      <th>component</th>\n",
              "      <th>Label</th>\n",
              "      <th>tesla-Close</th>\n",
              "    </tr>\n",
              "    <tr>\n",
              "      <th>time</th>\n",
              "      <th></th>\n",
              "      <th></th>\n",
              "    </tr>\n",
              "  </thead>\n",
              "  <tbody>\n",
              "    <tr>\n",
              "      <th>2021-06-15</th>\n",
              "      <td>623.408147</td>\n",
              "      <td>599.359985</td>\n",
              "    </tr>\n",
              "    <tr>\n",
              "      <th>2021-06-16</th>\n",
              "      <td>646.183932</td>\n",
              "      <td>604.869995</td>\n",
              "    </tr>\n",
              "    <tr>\n",
              "      <th>2021-06-17</th>\n",
              "      <td>656.697504</td>\n",
              "      <td>616.599976</td>\n",
              "    </tr>\n",
              "    <tr>\n",
              "      <th>2021-06-18</th>\n",
              "      <td>655.850648</td>\n",
              "      <td>623.309998</td>\n",
              "    </tr>\n",
              "    <tr>\n",
              "      <th>2021-06-19</th>\n",
              "      <td>664.923479</td>\n",
              "      <td>620.830017</td>\n",
              "    </tr>\n",
              "    <tr>\n",
              "      <th>2021-06-20</th>\n",
              "      <td>679.460944</td>\n",
              "      <td>620.830017</td>\n",
              "    </tr>\n",
              "    <tr>\n",
              "      <th>2021-06-21</th>\n",
              "      <td>677.635518</td>\n",
              "      <td>620.830017</td>\n",
              "    </tr>\n",
              "    <tr>\n",
              "      <th>2021-06-22</th>\n",
              "      <td>675.544687</td>\n",
              "      <td>623.710022</td>\n",
              "    </tr>\n",
              "    <tr>\n",
              "      <th>2021-06-23</th>\n",
              "      <td>685.280159</td>\n",
              "      <td>656.570007</td>\n",
              "    </tr>\n",
              "    <tr>\n",
              "      <th>2021-06-24</th>\n",
              "      <td>671.750072</td>\n",
              "      <td>679.820007</td>\n",
              "    </tr>\n",
              "    <tr>\n",
              "      <th>2021-06-25</th>\n",
              "      <td>688.492669</td>\n",
              "      <td>671.869995</td>\n",
              "    </tr>\n",
              "    <tr>\n",
              "      <th>2021-06-26</th>\n",
              "      <td>695.787317</td>\n",
              "      <td>688.719971</td>\n",
              "    </tr>\n",
              "    <tr>\n",
              "      <th>2021-06-27</th>\n",
              "      <td>730.848015</td>\n",
              "      <td>688.719971</td>\n",
              "    </tr>\n",
              "    <tr>\n",
              "      <th>2021-06-28</th>\n",
              "      <td>726.215096</td>\n",
              "      <td>688.719971</td>\n",
              "    </tr>\n",
              "    <tr>\n",
              "      <th>2021-06-29</th>\n",
              "      <td>731.133424</td>\n",
              "      <td>680.760010</td>\n",
              "    </tr>\n",
              "  </tbody>\n",
              "</table>\n",
              "</div>\n",
              "      <button class=\"colab-df-convert\" onclick=\"convertToInteractive('df-6717c1c7-9aec-4c51-bfe1-bc8a955e131c')\"\n",
              "              title=\"Convert this dataframe to an interactive table.\"\n",
              "              style=\"display:none;\">\n",
              "        \n",
              "  <svg xmlns=\"http://www.w3.org/2000/svg\" height=\"24px\"viewBox=\"0 0 24 24\"\n",
              "       width=\"24px\">\n",
              "    <path d=\"M0 0h24v24H0V0z\" fill=\"none\"/>\n",
              "    <path d=\"M18.56 5.44l.94 2.06.94-2.06 2.06-.94-2.06-.94-.94-2.06-.94 2.06-2.06.94zm-11 1L8.5 8.5l.94-2.06 2.06-.94-2.06-.94L8.5 2.5l-.94 2.06-2.06.94zm10 10l.94 2.06.94-2.06 2.06-.94-2.06-.94-.94-2.06-.94 2.06-2.06.94z\"/><path d=\"M17.41 7.96l-1.37-1.37c-.4-.4-.92-.59-1.43-.59-.52 0-1.04.2-1.43.59L10.3 9.45l-7.72 7.72c-.78.78-.78 2.05 0 2.83L4 21.41c.39.39.9.59 1.41.59.51 0 1.02-.2 1.41-.59l7.78-7.78 2.81-2.81c.8-.78.8-2.07 0-2.86zM5.41 20L4 18.59l7.72-7.72 1.47 1.35L5.41 20z\"/>\n",
              "  </svg>\n",
              "      </button>\n",
              "      \n",
              "  <style>\n",
              "    .colab-df-container {\n",
              "      display:flex;\n",
              "      flex-wrap:wrap;\n",
              "      gap: 12px;\n",
              "    }\n",
              "\n",
              "    .colab-df-convert {\n",
              "      background-color: #E8F0FE;\n",
              "      border: none;\n",
              "      border-radius: 50%;\n",
              "      cursor: pointer;\n",
              "      display: none;\n",
              "      fill: #1967D2;\n",
              "      height: 32px;\n",
              "      padding: 0 0 0 0;\n",
              "      width: 32px;\n",
              "    }\n",
              "\n",
              "    .colab-df-convert:hover {\n",
              "      background-color: #E2EBFA;\n",
              "      box-shadow: 0px 1px 2px rgba(60, 64, 67, 0.3), 0px 1px 3px 1px rgba(60, 64, 67, 0.15);\n",
              "      fill: #174EA6;\n",
              "    }\n",
              "\n",
              "    [theme=dark] .colab-df-convert {\n",
              "      background-color: #3B4455;\n",
              "      fill: #D2E3FC;\n",
              "    }\n",
              "\n",
              "    [theme=dark] .colab-df-convert:hover {\n",
              "      background-color: #434B5C;\n",
              "      box-shadow: 0px 1px 3px 1px rgba(0, 0, 0, 0.15);\n",
              "      filter: drop-shadow(0px 1px 2px rgba(0, 0, 0, 0.3));\n",
              "      fill: #FFFFFF;\n",
              "    }\n",
              "  </style>\n",
              "\n",
              "      <script>\n",
              "        const buttonEl =\n",
              "          document.querySelector('#df-6717c1c7-9aec-4c51-bfe1-bc8a955e131c button.colab-df-convert');\n",
              "        buttonEl.style.display =\n",
              "          google.colab.kernel.accessAllowed ? 'block' : 'none';\n",
              "\n",
              "        async function convertToInteractive(key) {\n",
              "          const element = document.querySelector('#df-6717c1c7-9aec-4c51-bfe1-bc8a955e131c');\n",
              "          const dataTable =\n",
              "            await google.colab.kernel.invokeFunction('convertToInteractive',\n",
              "                                                     [key], {});\n",
              "          if (!dataTable) return;\n",
              "\n",
              "          const docLinkHtml = 'Like what you see? Visit the ' +\n",
              "            '<a target=\"_blank\" href=https://colab.research.google.com/notebooks/data_table.ipynb>data table notebook</a>'\n",
              "            + ' to learn more about interactive tables.';\n",
              "          element.innerHTML = '';\n",
              "          dataTable['output_type'] = 'display_data';\n",
              "          await google.colab.output.renderOutput(dataTable, element);\n",
              "          const docLink = document.createElement('div');\n",
              "          docLink.innerHTML = docLinkHtml;\n",
              "          element.appendChild(docLink);\n",
              "        }\n",
              "      </script>\n",
              "    </div>\n",
              "  </div>\n",
              "  "
            ],
            "text/plain": [
              "component        Label  tesla-Close\n",
              "time                               \n",
              "2021-06-15  623.408147   599.359985\n",
              "2021-06-16  646.183932   604.869995\n",
              "2021-06-17  656.697504   616.599976\n",
              "2021-06-18  655.850648   623.309998\n",
              "2021-06-19  664.923479   620.830017\n",
              "2021-06-20  679.460944   620.830017\n",
              "2021-06-21  677.635518   620.830017\n",
              "2021-06-22  675.544687   623.710022\n",
              "2021-06-23  685.280159   656.570007\n",
              "2021-06-24  671.750072   679.820007\n",
              "2021-06-25  688.492669   671.869995\n",
              "2021-06-26  695.787317   688.719971\n",
              "2021-06-27  730.848015   688.719971\n",
              "2021-06-28  726.215096   688.719971\n",
              "2021-06-29  731.133424   680.760010"
            ]
          },
          "metadata": {},
          "execution_count": 72
        }
      ]
    },
    {
      "cell_type": "markdown",
      "source": [
        "### **Metrics**"
      ],
      "metadata": {
        "id": "JKPNYhd3PAp-"
      }
    },
    {
      "cell_type": "code",
      "source": [
        "mape_score = mape(val_orig, pred_orig)\n",
        "mae_score = mae(val_orig, pred_orig)\n",
        "rmse_score = rmse(val_orig, pred_orig)\n",
        "\n",
        "print('NBEATS model MAPE is: {}%'.format(round(mape_score)))\n",
        "print('NBEATS model MAE is: {}'.format(round(mae_score, 2)))\n",
        "print('NBEATS model RMSE is: {}'.format(round(rmse_score)))"
      ],
      "metadata": {
        "id": "-nt1ZQnZO9Bu",
        "colab": {
          "base_uri": "https://localhost:8080/"
        },
        "outputId": "b91a679b-8c89-40d8-d98d-50aaa28c2968"
      },
      "execution_count": 70,
      "outputs": [
        {
          "output_type": "stream",
          "name": "stdout",
          "text": [
            "NBEATS model MAPE is: 6%\n",
            "NBEATS model MAE is: 35.99\n",
            "NBEATS model RMSE is: 39\n"
          ]
        }
      ]
    }
  ]
}